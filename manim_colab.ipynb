{
  "nbformat": 4,
  "nbformat_minor": 0,
  "metadata": {
    "colab": {
      "provenance": [],
      "collapsed_sections": [
        "EvDQtrytSyIe"
      ]
    },
    "kernelspec": {
      "name": "python3",
      "display_name": "Python 3"
    },
    "language_info": {
      "name": "python"
    }
  },
  "cells": [
    {
      "cell_type": "markdown",
      "source": [
        "# Set-Up"
      ],
      "metadata": {
        "id": "gGlNh0ODSOjC"
      }
    },
    {
      "cell_type": "code",
      "execution_count": null,
      "metadata": {
        "id": "6eNSYEnfR7G4"
      },
      "outputs": [],
      "source": [
        "#@title # Install Manim First\n",
        "#@markdown This install Manim and its dependencies.\n",
        "\n",
        "#@markdown Click on the restart runtime button below before continuing.\n",
        "!sudo apt update\n",
        "!sudo apt install libcairo2-dev ffmpeg texlive texlive-latex-extra texlive-fonts-extra texlive-latex-recommended texlive-science tipa libpango1.0-dev\n",
        "!pip install -U manim==0.9.0\n",
        "\n",
        "!pip install IPython --upgrade"
      ]
    },
    {
      "cell_type": "code",
      "source": [
        "#@markdown First Import Manim\n",
        "from manim import *"
      ],
      "metadata": {
        "colab": {
          "base_uri": "https://localhost:8080/",
          "height": 86
        },
        "id": "lYDF-ZhGSJFe",
        "outputId": "574486fa-f075-43b7-bd90-f2bb3ff6b978"
      },
      "execution_count": null,
      "outputs": [
        {
          "output_type": "display_data",
          "data": {
            "text/plain": [
              "Manim Community \u001b[32mv0.\u001b[0m\u001b[32m9.0\u001b[0m\n",
              "\n"
            ],
            "text/html": [
              "<pre style=\"white-space:pre;overflow-x:auto;line-height:normal;font-family:Menlo,'DejaVu Sans Mono',consolas,'Courier New',monospace\">Manim Community <span style=\"color: #008000; text-decoration-color: #008000\">v0.9.0</span>\n",
              "\n",
              "</pre>\n"
            ]
          },
          "metadata": {}
        },
        {
          "output_type": "stream",
          "name": "stdout",
          "text": [
            "Manim Community \u001b[32mv0.\u001b[0m\u001b[32m9.0\u001b[0m\n",
            "\n"
          ]
        }
      ]
    },
    {
      "cell_type": "markdown",
      "source": [
        "$$ \\text{References} $$\n",
        "\n",
        "[Libro Colab](https://colab.research.google.com/gist/behackl/b8bfb8a89a49deaaf3e43f4386587c9e/notebook.ipynb#scrollTo=vueStXPhDmXe)\n",
        "\n",
        "[Blog Manim](https://docs.manim.community/en/v0.3.0/changelog.html#v0-3-0)"
      ],
      "metadata": {
        "id": "8Xx_l7GJ35t8"
      }
    },
    {
      "cell_type": "markdown",
      "source": [
        "# Scence"
      ],
      "metadata": {
        "id": "EvDQtrytSyIe"
      }
    },
    {
      "cell_type": "code",
      "source": [
        "fname = 'DataPoints.py'\n",
        "textfunction = '''\n",
        "from manim import *\n",
        "\n",
        "class DataPoints(Scene):\n",
        "    num_buckets = 5  # Set the number of tick marks\n",
        "    num_points = 6\n",
        "    delay_mult = 4/5  # Set the delay multiplier\n",
        "\n",
        "    def construct(self):\n",
        "        # Create the longer horizontal line\n",
        "        line = Line(start=LEFT*3, end=RIGHT*3)\n",
        "        self.play(Create(line))\n",
        "\n",
        "        # Define the bounded segment\n",
        "        segment_start = line.get_start() + RIGHT  # Move slightly to the right\n",
        "        segment_end = line.get_end() - RIGHT      # Move slightly to the left\n",
        "\n",
        "        # Calculate evenly spaced x coordinates for tick marks\n",
        "        tick_x_coords = np.linspace(0, 1, self.num_buckets+1)\n",
        "\n",
        "        # Create tick marks\n",
        "        tick_marks = [line.point_from_proportion(x_coord) for x_coord in tick_x_coords]\n",
        "        tick_marks_group = VGroup(*[Line(tick, tick + UP*0.2) for tick in tick_marks])\n",
        "\n",
        "        # Create labels on tick marks\n",
        "        tick_labels = [MathTex(str(i)).next_to(tick, 2*UP) for i, tick in enumerate(tick_marks)]\n",
        "        tick_labels_group = VGroup(*tick_labels)\n",
        "\n",
        "        self.play(Create(tick_marks_group), Write(tick_labels_group))\n",
        "\n",
        "        # Create and add random points within the bounded segment\n",
        "        self.generate_random_points(self.num_points, segment_start, segment_end, tick_x_coords)\n",
        "\n",
        "        self.wait(2)\n",
        "\n",
        "        tick_labels = self.transform_tick_labels(tick_labels_group, tick_marks)\n",
        "\n",
        "    def generate_random_points(self, num_points, segment_start, segment_end, tick_x_coords):\n",
        "        points = VGroup()\n",
        "        delay = 1\n",
        "        for i in range(num_points):\n",
        "            x_coord = np.random.uniform(segment_start[0], segment_end[0])\n",
        "            point = Dot(\n",
        "                point=[x_coord, segment_start[1], 0],\n",
        "                radius=0.1,  # Set a larger radius for bigger points\n",
        "                color=GREEN,  # Set the color to green\n",
        "                fill_opacity=0.8,  # Set the opacity level\n",
        "            )\n",
        "            self.play(Create(point), run_time=0.5)\n",
        "            self.wait(delay)\n",
        "            delay *= self.delay_mult  # Apply delay multiplier\n",
        "            points.add(point)\n",
        "        return points\n",
        "\n",
        "    def transform_tick_labels(self, tick_labels_group, tick_marks):\n",
        "        new_tick_labels = [MathTex(f\"Label {i}\").next_to(tick, 2*UP) for i, tick in enumerate(tick_marks)]\n",
        "        self.play(Transform(tick_labels_group, VGroup(*new_tick_labels)))\n",
        "        return new_tick_labels\n",
        "\n",
        "scene = DataPoints()\n",
        "scene.render()\n",
        "      '''\n",
        "\n",
        "with open(fname, 'w') as f:\n",
        "    f.write(textfunction)"
      ],
      "metadata": {
        "id": "qD6cQJpkm2KG"
      },
      "execution_count": null,
      "outputs": []
    },
    {
      "cell_type": "code",
      "source": [
        "!manim DataPoints.py DataPoints -v WARNING"
      ],
      "metadata": {
        "colab": {
          "base_uri": "https://localhost:8080/"
        },
        "id": "-a4f--ym_T5l",
        "outputId": "3cdc0d82-6ce4-4e82-dfa5-f17d13e086ec"
      },
      "execution_count": null,
      "outputs": [
        {
          "output_type": "stream",
          "name": "stdout",
          "text": [
            "Manim Community \u001b[32mv0.\u001b[0m\u001b[32m9.0\u001b[0m\n",
            "\n",
            "You are using manim version \u001b[31mv0.\u001b[0m\u001b[31m9.0\u001b[0m, but version \u001b[32mv0.\u001b[0m\u001b[32m17.3\u001b[0m is available.\n",
            "You should consider upgrading via \u001b[33mpip install -U manim\u001b[0m\n"
          ]
        }
      ]
    }
  ]
}